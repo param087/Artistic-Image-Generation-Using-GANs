{
 "cells": [
  {
   "cell_type": "code",
   "execution_count": 0,
   "metadata": {
    "colab": {},
    "colab_type": "code",
    "collapsed": false,
    "deletable": true,
    "editable": true,
    "id": "dVoIjx9BuDeI",
    "outputId": "ae164241-64d0-47e0-bd8a-0dd238192fc4"
   },
   "outputs": [
    {
     "name": "stderr",
     "output_type": "stream",
     "text": [
      "100%|███████████████████████████████████████████████████████████████████████████| 14938/14938 [02:08<00:00, 116.09it/s]\n"
     ]
    }
   ],
   "source": [
    "from PIL import Image\n",
    "import os\n",
    "from tqdm import tqdm\n",
    "\n",
    "src = 'train_landscape_128x128'\n",
    "des = 'train_landscape_128'\n",
    "\n",
    "if not os.path.exists(des):\n",
    "    os.makedirs(des)\n",
    "\n",
    "for each in tqdm(os.listdir(src)):\n",
    "    png = Image.open(os.path.join(src,each))\n",
    "    \n",
    "    if png.mode==\"RGBA\":\n",
    "        png.load()\n",
    "        background = Image.new(\"RGB\", png.size, (0,0,0))\n",
    "        background.paste(png, mask=png.split()[3])\n",
    "        background.save(os.path.join(des, each.split('.')[0] + '.jpg'),'JPEG')\n",
    "    else:\n",
    "        png.convert('RGB')\n",
    "        png.save(os.path.join(des, each.split('.')[0] + '.jpg'), 'JPEG')"
   ]
  },
  {
   "cell_type": "code",
   "execution_count": 0,
   "metadata": {
    "colab": {},
    "colab_type": "code",
    "collapsed": false,
    "deletable": true,
    "editable": true,
    "id": "E86gQztYuDeT",
    "outputId": "39a16dcb-8043-43d7-a484-0578c0940a7e"
   },
   "outputs": [
    {
     "name": "stdout",
     "output_type": "stream",
     "text": [
      "2018-02-21 07:19:36\n"
     ]
    }
   ],
   "source": [
    "import datetime\n",
    "print(datetime.datetime.now().strftime('%Y-%m-%d %H:%M:%S'))"
   ]
  },
  {
   "cell_type": "code",
   "execution_count": 0,
   "metadata": {
    "colab": {},
    "colab_type": "code",
    "collapsed": true,
    "id": "oOsa9vryuDeY"
   },
   "outputs": [],
   "source": []
  }
 ],
 "metadata": {
  "colab": {
   "name": "RGBA2RGB.ipynb",
   "provenance": [],
   "version": "0.3.2"
  },
  "kernelspec": {
   "display_name": "Python 3",
   "language": "python",
   "name": "python3"
  },
  "language_info": {
   "codemirror_mode": {
    "name": "ipython",
    "version": 3
   },
   "file_extension": ".py",
   "mimetype": "text/x-python",
   "name": "python",
   "nbconvert_exporter": "python",
   "pygments_lexer": "ipython3",
   "version": "3.5.5"
  }
 },
 "nbformat": 4,
 "nbformat_minor": 0
}
